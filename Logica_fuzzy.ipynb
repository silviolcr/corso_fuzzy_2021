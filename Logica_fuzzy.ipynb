{
  "nbformat": 4,
  "nbformat_minor": 0,
  "metadata": {
    "colab": {
      "name": "Logica fuzzy.ipynb",
      "provenance": [],
      "collapsed_sections": [],
      "authorship_tag": "ABX9TyMumfpdjrryY3epdyPFvvVZ",
      "include_colab_link": true
    },
    "kernelspec": {
      "name": "python3",
      "display_name": "Python 3"
    }
  },
  "cells": [
    {
      "cell_type": "markdown",
      "metadata": {
        "id": "view-in-github",
        "colab_type": "text"
      },
      "source": [
        "<a href=\"https://colab.research.google.com/github/silviolcr/corso_fuzzy_2021/blob/main/Logica_fuzzy.ipynb\" target=\"_parent\"><img src=\"https://colab.research.google.com/assets/colab-badge.svg\" alt=\"Open In Colab\"/></a>"
      ]
    },
    {
      "cell_type": "markdown",
      "metadata": {
        "id": "l_IOMjt7Xy1b"
      },
      "source": [
        "INTRODUZIONE E CENNI STORICI\r\n"
      ]
    },
    {
      "cell_type": "markdown",
      "metadata": {
        "id": "vzFKKuhrgy9J"
      },
      "source": [
        "La logica nasce perché c’era la necessita di formalizzare un linguaggio. Quando si andava a fare una presentazione il problema era esprimere nel modo più oggettivo possibile l’idea.\r\n",
        "Quindi si aveva bisogno di esprimere formalismi,così nacquero i sillogismi.\r\n",
        "Poi la matematica comincia a fare delle grosse innovazioni. Il problema che si pone è che non c’era un linguaggio unico.\r\n",
        "Quindi la parte di sintassi di questi connettivi e questo modo di scrivere la matematica, non era unico.\r\n",
        "Un esempio di logica classica insieme al sillogismo è la logica booleana.\r\n",
        " Boole, nel 1850 formalizza e studia la logica da un punto di vista algebrico.\r\n",
        "Quindi ci dice come devono scriversi le formule e riprodurre i connettivi.\r\n",
        "La logica matematica si focalizza inizialmente sulla parte sintattica, e cioè sul modo di scrivere le cose.\r\n",
        "Boole in particolare introduce algebre in cui abbiamo due elementi, cioè due estremi 0 e 1. Quindi lo 0 che interpretiamo come falso e l’ 1 come vero.\r\n",
        "Nasce un formalismo e possiamo parlare di più oggetti.\r\n",
        "La logica comincia avere spazio nella matematica.\r\n",
        "In seguito nacquero le logiche polivalenti che sono estensioni della logica classica in cui sono presenti più valori di verità rispetto ai canonici vero, falso e pertanto in esse non vale il principio del terzo escluso. Le prime logiche polivalenti furono proposte negli anni 1920 da Emil Post e da Jan Łukasiewicz e in esse erano presenti tre valori di verità: vero, falso, non lo so.\r\n",
        "La logica fuzzy  è una logica non classica,  in cui si può attribuire a ciascuna proposizione un grado di verità diverso da 0 e 1 e compreso tra di loro, quindi ad infiniti valori di verità. L’affermazione oltre che vera (valore 1) o falsa (valore 0) come nella logica classica, può essere anche parzialmente vera e parzialmente falsa, né bianco (0), né nero (1), ma infinite sfumature di grigio, valori compresi.\r\n"
      ]
    },
    {
      "cell_type": "markdown",
      "metadata": {
        "id": "qgZwnPQVXVbD"
      },
      "source": [
        "CONNETTIVI LOGICI IN PYTHON (AND,OR, FRECCIA, OPPURE)\r\n"
      ]
    },
    {
      "cell_type": "code",
      "metadata": {
        "id": "KCzCZjJjw144"
      },
      "source": [
        "def e(var1,var2):\r\n",
        "  return var1 and var2\r\n",
        "\r\n",
        "def o(var1,var2):\r\n",
        "  return var1 or var2\r\n",
        "\r\n",
        "def freccia(ipotesi,tesi):\r\n",
        "  return (not ipotesi or tesi)\r\n",
        "\r\n",
        "def oppure(var1,var2):\r\n",
        "  return (not var1 and var2) or (var1 and not var2)\r\n",
        "\r\n",
        "\r\n",
        "def stampa_tabella(formula):\r\n",
        "  valori_possibili = (False, True)\r\n",
        "\r\n",
        "  for A in valori_possibili:\r\n",
        "    for B in valori_possibili:\r\n",
        "      print(f'{formula(A,B)}')\r\n",
        "\r\n",
        "      stampa_tabella(oppure)\r\n"
      ],
      "execution_count": 132,
      "outputs": []
    },
    {
      "cell_type": "markdown",
      "metadata": {
        "id": "kI6se6yDWBab"
      },
      "source": [
        "TABELLE DI VERITA' CON CONNETTIVO AND\r\n"
      ]
    },
    {
      "cell_type": "markdown",
      "metadata": {
        "id": "Ops_iUX8lAXm"
      },
      "source": [
        "TEST FUNZIONE AND\r\n"
      ]
    },
    {
      "cell_type": "markdown",
      "metadata": {
        "id": "V5fO4Q1gacD2"
      },
      "source": [
        "Prendiamo due variabili proposizionali, A e B, e l'operatore logico AND, ottenendo la congiunzione logica \"A end B\". Se sia A che B sono vere, allora la congiunzione \"A and B\" è vera; ogni diversa assegnazione di valori di verità rende \"A and B\" è falsa. La relazione è così definita: "
      ]
    },
    {
      "cell_type": "code",
      "metadata": {
        "id": "372uRkzGqn4M",
        "colab": {
          "base_uri": "https://localhost:8080/"
        },
        "outputId": "c22b184e-3cc0-402e-8ab0-186e157c9d73"
      },
      "source": [
        "valori_possibili = (False,True)\r\n",
        "\r\n",
        "for A in valori_possibili:\r\n",
        "  for B in valori_possibili:\r\n",
        "    print(f'{A} AND {B} | {A and B}')"
      ],
      "execution_count": 10,
      "outputs": [
        {
          "output_type": "stream",
          "text": [
            "False AND False | False\n",
            "False AND True | False\n",
            "True AND False | False\n",
            "True AND True | True\n"
          ],
          "name": "stdout"
        }
      ]
    },
    {
      "cell_type": "markdown",
      "metadata": {
        "id": "VKmQvqhdb5IK"
      },
      "source": [
        "Ho scelto questo codice perchè l'ho trovato il più immediato e di semplice struttura."
      ]
    },
    {
      "cell_type": "markdown",
      "metadata": {
        "id": "KQTQ_pqM-ZIS"
      },
      "source": [
        "FUNZIONI:\r\n",
        "A or (not A)               \r\n",
        "Not A -> B"
      ]
    },
    {
      "cell_type": "code",
      "metadata": {
        "id": "nh8ThF5bDCy3"
      },
      "source": [
        "#Connettivo 1\r\n",
        "def uno(var1): \r\n",
        "  return var1 or (not var1)\r\n",
        "\r\n",
        "#Connettivo 2\r\n",
        "def due(var1, var2):\r\n",
        "  return (not (not var1) or var2)"
      ],
      "execution_count": 125,
      "outputs": []
    },
    {
      "cell_type": "code",
      "metadata": {
        "id": "IjE2oYJOI_4K"
      },
      "source": [
        "def stampa_tabella(formula):\r\n",
        "  valori = (False,True)\r\n",
        " \r\n",
        "  print('\\nTabella di verita\\':')\r\n",
        "  if formula == 'uno':\r\n",
        "    for A in valori:\r\n",
        "      print(f'{A} | {eval(formula+\"(A)\")}')\r\n",
        "\r\n",
        "  else:               \r\n",
        "    for A in valori:\r\n",
        "      for B in valori:\r\n",
        "        print(f' {A} | {B} | {eval(formula+\"(A,B)\")}')"
      ],
      "execution_count": 126,
      "outputs": []
    },
    {
      "cell_type": "code",
      "metadata": {
        "colab": {
          "base_uri": "https://localhost:8080/",
          "height": 784
        },
        "id": "cLEt_sUMJFbO",
        "outputId": "2bcecaf2-f6aa-48d1-84a4-390028defcb3"
      },
      "source": [
        "\r\n",
        "\r\n",
        "risposta = 's'\r\n",
        "while risposta == 's':\r\n",
        " \r\n",
        "  operazione = input('Che esercizio vuoi svolgere? \"uno\" \"due\"')\r\n",
        "  \r\n",
        "  stampa_tabella(operazione)\r\n",
        " \r\n",
        "\r\n",
        "\r\n"
      ],
      "execution_count": 127,
      "outputs": [
        {
          "output_type": "stream",
          "text": [
            "Che esercizio vuoi svolgere? \"uno\" \"due\"uno\n",
            "\n",
            "Tabella di verita':\n",
            "False | True\n",
            "True | True\n",
            "Che esercizio vuoi svolgere? \"uno\" \"due\"due\n",
            "\n",
            "Tabella di verita':\n",
            " False | False | False\n",
            " False | True | True\n",
            " True | False | True\n",
            " True | True | True\n"
          ],
          "name": "stdout"
        },
        {
          "output_type": "error",
          "ename": "KeyboardInterrupt",
          "evalue": "ignored",
          "traceback": [
            "\u001b[0;31m---------------------------------------------------------------------------\u001b[0m",
            "\u001b[0;31mKeyboardInterrupt\u001b[0m                         Traceback (most recent call last)",
            "\u001b[0;32m/usr/local/lib/python3.7/dist-packages/ipykernel/kernelbase.py\u001b[0m in \u001b[0;36m_input_request\u001b[0;34m(self, prompt, ident, parent, password)\u001b[0m\n\u001b[1;32m    728\u001b[0m             \u001b[0;32mtry\u001b[0m\u001b[0;34m:\u001b[0m\u001b[0;34m\u001b[0m\u001b[0;34m\u001b[0m\u001b[0m\n\u001b[0;32m--> 729\u001b[0;31m                 \u001b[0mident\u001b[0m\u001b[0;34m,\u001b[0m \u001b[0mreply\u001b[0m \u001b[0;34m=\u001b[0m \u001b[0mself\u001b[0m\u001b[0;34m.\u001b[0m\u001b[0msession\u001b[0m\u001b[0;34m.\u001b[0m\u001b[0mrecv\u001b[0m\u001b[0;34m(\u001b[0m\u001b[0mself\u001b[0m\u001b[0;34m.\u001b[0m\u001b[0mstdin_socket\u001b[0m\u001b[0;34m,\u001b[0m \u001b[0;36m0\u001b[0m\u001b[0;34m)\u001b[0m\u001b[0;34m\u001b[0m\u001b[0;34m\u001b[0m\u001b[0m\n\u001b[0m\u001b[1;32m    730\u001b[0m             \u001b[0;32mexcept\u001b[0m \u001b[0mException\u001b[0m\u001b[0;34m:\u001b[0m\u001b[0;34m\u001b[0m\u001b[0;34m\u001b[0m\u001b[0m\n",
            "\u001b[0;32m/usr/local/lib/python3.7/dist-packages/jupyter_client/session.py\u001b[0m in \u001b[0;36mrecv\u001b[0;34m(self, socket, mode, content, copy)\u001b[0m\n\u001b[1;32m    802\u001b[0m         \u001b[0;32mtry\u001b[0m\u001b[0;34m:\u001b[0m\u001b[0;34m\u001b[0m\u001b[0;34m\u001b[0m\u001b[0m\n\u001b[0;32m--> 803\u001b[0;31m             \u001b[0mmsg_list\u001b[0m \u001b[0;34m=\u001b[0m \u001b[0msocket\u001b[0m\u001b[0;34m.\u001b[0m\u001b[0mrecv_multipart\u001b[0m\u001b[0;34m(\u001b[0m\u001b[0mmode\u001b[0m\u001b[0;34m,\u001b[0m \u001b[0mcopy\u001b[0m\u001b[0;34m=\u001b[0m\u001b[0mcopy\u001b[0m\u001b[0;34m)\u001b[0m\u001b[0;34m\u001b[0m\u001b[0;34m\u001b[0m\u001b[0m\n\u001b[0m\u001b[1;32m    804\u001b[0m         \u001b[0;32mexcept\u001b[0m \u001b[0mzmq\u001b[0m\u001b[0;34m.\u001b[0m\u001b[0mZMQError\u001b[0m \u001b[0;32mas\u001b[0m \u001b[0me\u001b[0m\u001b[0;34m:\u001b[0m\u001b[0;34m\u001b[0m\u001b[0;34m\u001b[0m\u001b[0m\n",
            "\u001b[0;32m/usr/local/lib/python3.7/dist-packages/zmq/sugar/socket.py\u001b[0m in \u001b[0;36mrecv_multipart\u001b[0;34m(self, flags, copy, track)\u001b[0m\n\u001b[1;32m    582\u001b[0m         \"\"\"\n\u001b[0;32m--> 583\u001b[0;31m         \u001b[0mparts\u001b[0m \u001b[0;34m=\u001b[0m \u001b[0;34m[\u001b[0m\u001b[0mself\u001b[0m\u001b[0;34m.\u001b[0m\u001b[0mrecv\u001b[0m\u001b[0;34m(\u001b[0m\u001b[0mflags\u001b[0m\u001b[0;34m,\u001b[0m \u001b[0mcopy\u001b[0m\u001b[0;34m=\u001b[0m\u001b[0mcopy\u001b[0m\u001b[0;34m,\u001b[0m \u001b[0mtrack\u001b[0m\u001b[0;34m=\u001b[0m\u001b[0mtrack\u001b[0m\u001b[0;34m)\u001b[0m\u001b[0;34m]\u001b[0m\u001b[0;34m\u001b[0m\u001b[0;34m\u001b[0m\u001b[0m\n\u001b[0m\u001b[1;32m    584\u001b[0m         \u001b[0;31m# have first part already, only loop while more to receive\u001b[0m\u001b[0;34m\u001b[0m\u001b[0;34m\u001b[0m\u001b[0;34m\u001b[0m\u001b[0m\n",
            "\u001b[0;32mzmq/backend/cython/socket.pyx\u001b[0m in \u001b[0;36mzmq.backend.cython.socket.Socket.recv\u001b[0;34m()\u001b[0m\n",
            "\u001b[0;32mzmq/backend/cython/socket.pyx\u001b[0m in \u001b[0;36mzmq.backend.cython.socket.Socket.recv\u001b[0;34m()\u001b[0m\n",
            "\u001b[0;32mzmq/backend/cython/socket.pyx\u001b[0m in \u001b[0;36mzmq.backend.cython.socket._recv_copy\u001b[0;34m()\u001b[0m\n",
            "\u001b[0;32m/usr/local/lib/python3.7/dist-packages/zmq/backend/cython/checkrc.pxd\u001b[0m in \u001b[0;36mzmq.backend.cython.checkrc._check_rc\u001b[0;34m()\u001b[0m\n",
            "\u001b[0;31mKeyboardInterrupt\u001b[0m: ",
            "\nDuring handling of the above exception, another exception occurred:\n",
            "\u001b[0;31mKeyboardInterrupt\u001b[0m                         Traceback (most recent call last)",
            "\u001b[0;32m<ipython-input-127-e94d21e79892>\u001b[0m in \u001b[0;36m<module>\u001b[0;34m()\u001b[0m\n\u001b[1;32m      4\u001b[0m \u001b[0;32mwhile\u001b[0m \u001b[0mrisposta\u001b[0m \u001b[0;34m==\u001b[0m \u001b[0;34m's'\u001b[0m\u001b[0;34m:\u001b[0m\u001b[0;34m\u001b[0m\u001b[0;34m\u001b[0m\u001b[0m\n\u001b[1;32m      5\u001b[0m \u001b[0;34m\u001b[0m\u001b[0m\n\u001b[0;32m----> 6\u001b[0;31m   \u001b[0moperazione\u001b[0m \u001b[0;34m=\u001b[0m \u001b[0minput\u001b[0m\u001b[0;34m(\u001b[0m\u001b[0;34m'Che esercizio vuoi svolgere? \"uno\" \"due\"'\u001b[0m\u001b[0;34m)\u001b[0m\u001b[0;34m\u001b[0m\u001b[0;34m\u001b[0m\u001b[0m\n\u001b[0m\u001b[1;32m      7\u001b[0m \u001b[0;34m\u001b[0m\u001b[0m\n\u001b[1;32m      8\u001b[0m   \u001b[0mstampa_tabella\u001b[0m\u001b[0;34m(\u001b[0m\u001b[0moperazione\u001b[0m\u001b[0;34m)\u001b[0m\u001b[0;34m\u001b[0m\u001b[0;34m\u001b[0m\u001b[0m\n",
            "\u001b[0;32m/usr/local/lib/python3.7/dist-packages/ipykernel/kernelbase.py\u001b[0m in \u001b[0;36mraw_input\u001b[0;34m(self, prompt)\u001b[0m\n\u001b[1;32m    702\u001b[0m             \u001b[0mself\u001b[0m\u001b[0;34m.\u001b[0m\u001b[0m_parent_ident\u001b[0m\u001b[0;34m,\u001b[0m\u001b[0;34m\u001b[0m\u001b[0;34m\u001b[0m\u001b[0m\n\u001b[1;32m    703\u001b[0m             \u001b[0mself\u001b[0m\u001b[0;34m.\u001b[0m\u001b[0m_parent_header\u001b[0m\u001b[0;34m,\u001b[0m\u001b[0;34m\u001b[0m\u001b[0;34m\u001b[0m\u001b[0m\n\u001b[0;32m--> 704\u001b[0;31m             \u001b[0mpassword\u001b[0m\u001b[0;34m=\u001b[0m\u001b[0;32mFalse\u001b[0m\u001b[0;34m,\u001b[0m\u001b[0;34m\u001b[0m\u001b[0;34m\u001b[0m\u001b[0m\n\u001b[0m\u001b[1;32m    705\u001b[0m         )\n\u001b[1;32m    706\u001b[0m \u001b[0;34m\u001b[0m\u001b[0m\n",
            "\u001b[0;32m/usr/local/lib/python3.7/dist-packages/ipykernel/kernelbase.py\u001b[0m in \u001b[0;36m_input_request\u001b[0;34m(self, prompt, ident, parent, password)\u001b[0m\n\u001b[1;32m    732\u001b[0m             \u001b[0;32mexcept\u001b[0m \u001b[0mKeyboardInterrupt\u001b[0m\u001b[0;34m:\u001b[0m\u001b[0;34m\u001b[0m\u001b[0;34m\u001b[0m\u001b[0m\n\u001b[1;32m    733\u001b[0m                 \u001b[0;31m# re-raise KeyboardInterrupt, to truncate traceback\u001b[0m\u001b[0;34m\u001b[0m\u001b[0;34m\u001b[0m\u001b[0;34m\u001b[0m\u001b[0m\n\u001b[0;32m--> 734\u001b[0;31m                 \u001b[0;32mraise\u001b[0m \u001b[0mKeyboardInterrupt\u001b[0m\u001b[0;34m\u001b[0m\u001b[0;34m\u001b[0m\u001b[0m\n\u001b[0m\u001b[1;32m    735\u001b[0m             \u001b[0;32melse\u001b[0m\u001b[0;34m:\u001b[0m\u001b[0;34m\u001b[0m\u001b[0;34m\u001b[0m\u001b[0m\n\u001b[1;32m    736\u001b[0m                 \u001b[0;32mbreak\u001b[0m\u001b[0;34m\u001b[0m\u001b[0;34m\u001b[0m\u001b[0m\n",
            "\u001b[0;31mKeyboardInterrupt\u001b[0m: "
          ]
        }
      ]
    },
    {
      "cell_type": "code",
      "metadata": {
        "colab": {
          "base_uri": "https://localhost:8080/",
          "height": 135
        },
        "id": "kBUUHg4VDx3M",
        "outputId": "1deae6d3-7030-4f3c-a2cd-cf0025251b6d"
      },
      "source": [
        ""
      ],
      "execution_count": 22,
      "outputs": [
        {
          "output_type": "error",
          "ename": "SyntaxError",
          "evalue": "ignored",
          "traceback": [
            "\u001b[0;36m  File \u001b[0;32m\"<fstring>\"\u001b[0;36m, line \u001b[0;32m1\u001b[0m\n\u001b[0;31m    ((not A)-> B)\u001b[0m\n\u001b[0m             ^\u001b[0m\n\u001b[0;31mSyntaxError\u001b[0m\u001b[0;31m:\u001b[0m invalid syntax\n"
          ]
        }
      ]
    }
  ]
}